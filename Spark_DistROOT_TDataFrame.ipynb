{
 "cells": [
  {
   "cell_type": "markdown",
   "metadata": {},
   "source": [
    "![ROOT Logo](http://root.cern.ch/img/logos/ROOT_Logo/website-banner/website-banner-%28not%20root%20picture%29.jpg)\n",
    "![Spark Logo](http://spark-mooc.github.io/web-assets/images/ta_Spark-logo-small.png)\n",
    "# **GSoC 2018 at CERN-HSF**\n",
    "## **Distributed Big Data Analysis with TDataFrame**\n",
    "<hr style=\"border-top-width: 4px; border-top-color: #34609b;\">"
   ]
  },
  {
   "cell_type": "markdown",
   "metadata": {},
   "source": [
    "Create Spark context."
   ]
  },
  {
   "cell_type": "code",
   "execution_count": null,
   "metadata": {
    "collapsed": false,
    "scrolled": false
   },
   "outputs": [],
   "source": [
    "from pyspark import SparkConf, SparkContext\n",
    "\n",
    "conf = SparkConf()\n",
    "# Your options here, if needed\n",
    "sc = SparkContext(conf = conf)"
   ]
  },
  {
   "cell_type": "markdown",
   "metadata": {},
   "source": [
    "Import DistROOT."
   ]
  },
  {
   "cell_type": "code",
   "execution_count": null,
   "metadata": {
    "collapsed": false
   },
   "outputs": [],
   "source": [
    "import ROOT\n",
    "from DistROOT import DistTree"
   ]
  },
  {
   "cell_type": "markdown",
   "metadata": {},
   "source": [
    "Define the mapper and reducer functions for the distributed analysis with TDataFrame. The code processes a physics dataset with the following columns:\n",
    "\n",
    "| Column Name   | Type     | Quantity                                      |\n",
    "| :-----------: |:--------:| :--------------------------------------------:|\n",
    "| *E1*          | double   | Energy of the first muon |\n",
    "| *eta1*        | double   | Pseudorapidity of the first muon |\n",
    "| *phi1*        | double   | Phi of the first muon |\n",
    "| *px1*         | double   | X component of the momentum of the first muon |\n",
    "| *py1*         | double   | Y component of the momentum of the first muon |\n",
    "| *pz1*         | double   | Z component of the momentum of the first muon |\n",
    "| *pt1*         | double   | Transverse momentum of the first muon |\n",
    "| *C1*          | Long64_t | Charge of the momentum of the first muon |\n",
    "| *E2*          | double   | Energy of the second muon |\n",
    "| *eta2*        | double   | Pseudorapidity of the second muon |\n",
    "| *phi2*        | double   | Phi of the second muon |\n",
    "| *px2*         | double   | X component of the momentum of the second muon |\n",
    "| *py2*         | double   | Y component of the momentum of the second muon |\n",
    "| *pz2*         | double   | Z component of the momentum of the second muon |\n",
    "| *pt2*         | double   | Transverse momentum of the second muon |\n",
    "| *C2*          | Long64_t | Charge of the momentum of the second muon |\n"
   ]
  },
  {
   "cell_type": "code",
   "execution_count": null,
   "metadata": {
    "collapsed": true
   },
   "outputs": [],
   "source": [
    "def fillHist(tdf):\n",
    "    # Define the analysis cuts\n",
    "    chargeCutStr = \"C1 != C2\"\n",
    "    etaCutStr = \"fabs(eta1) < 2.3 && fabs(eta2) < 2.3\"\n",
    "    ptCutStr = \"pt1 > 2 && pt2 > 2\"\n",
    "    tdf_f = tdf.Filter(chargeCutStr, \"Opposite Charge\") \\\n",
    "               .Filter(etaCutStr, \"Central Muons\") \\\n",
    "               .Filter(ptCutStr, \"Sane Pt\")\n",
    "            \n",
    "    # Create the invariant mass column\n",
    "    invMassFormulaStr = \"sqrt(pow(E1+E2, 2) - (pow(px1+px2, 2) + pow(py1+py2, 2) + pow(pz1+pz2, 2)))\"\n",
    "    tdf_fd = tdf_f.Define(\"invMass\", invMassFormulaStr)\n",
    "    \n",
    "    # Create the histograms\n",
    "    pt1_h = tdf.Histo1D((\"\",\"\",128,1,1200), \"pt1\")\n",
    "    pt2_h = tdf.Histo1D((\"\",\"\",128,1,1200), \"pt2\")\n",
    "    invMass_h = tdf_fd.Histo1D((\"invMass\",\"CMS Opendata;#mu#mu mass [GeV];Events\",512,5,110), \"invMass\")\n",
    "    import ROOT\n",
    "    pi = ROOT.TMath.Pi()\n",
    "    phis_h = tdf_fd.Histo2D((\"\", \"\", 64, -pi, pi, 64, -pi, pi), \"phi1\", \"phi2\")\n",
    "\n",
    "    # Return the histograms\n",
    "    return [ pt1_h, pt2_h, invMass_h, phis_h ]"
   ]
  },
  {
   "cell_type": "code",
   "execution_count": null,
   "metadata": {
    "collapsed": true
   },
   "outputs": [],
   "source": [
    "def mergeHist(hList1, hList2):\n",
    "    for i in range(len(hList1)):\n",
    "        hList1[i].Add(hList2[i])\n",
    "    return hList1"
   ]
  },
  {
   "cell_type": "markdown",
   "metadata": {},
   "source": [
    "Build the DistTree and trigger the parallel processing. The final result is the merged histograms."
   ]
  },
  {
   "cell_type": "code",
   "execution_count": null,
   "metadata": {
    "collapsed": false
   },
   "outputs": [],
   "source": [
    "dTree = DistTree(filelist = ['https://root.cern/files/teaching/CMS_Open_Dataset.root',],\n",
    "                 treename = \"data\",\n",
    "                 npartitions = 2)\n",
    "\n",
    "hList = dTree.ProcessAndMerge(fillHist, mergeHist)"
   ]
  },
  {
   "cell_type": "markdown",
   "metadata": {},
   "source": [
    "Draw the histograms that were filled using Spark and ROOT."
   ]
  },
  {
   "cell_type": "code",
   "execution_count": null,
   "metadata": {
    "collapsed": false
   },
   "outputs": [],
   "source": [
    "muonsPts = ROOT.TCanvas()\n",
    "hList[0].Draw(\"PL PLC PMC\")\n",
    "hList[1].Draw(\"Same PL PLC PMC\")\n",
    "muonsPts.SetLogy()\n",
    "muonsPts.SetLogx()\n",
    "muonsPts.Draw()\n",
    "\n",
    "phis = ROOT.TCanvas()\n",
    "hList[3].Draw(\"col\")\n",
    "phis.Draw()"
   ]
  },
  {
   "cell_type": "code",
   "execution_count": null,
   "metadata": {
    "collapsed": false
   },
   "outputs": [],
   "source": [
    "invMass = ROOT.TCanvas()\n",
    "hList[2].Draw()\n",
    "invMass.SetLogy()\n",
    "invMass.SetLogx()\n",
    "invMass.SetGrid()\n",
    "invMass.Draw()"
   ]
  }
 ],
 "metadata": {
  "kernelspec": {
   "display_name": "Python 2",
   "language": "python",
   "name": "python2"
  },
  "language_info": {
   "codemirror_mode": {
    "name": "ipython",
    "version": 2
   },
   "file_extension": ".py",
   "mimetype": "text/x-python",
   "name": "python",
   "nbconvert_exporter": "python",
   "pygments_lexer": "ipython2",
   "version": "2.7.6"
  }
 },
 "nbformat": 4,
 "nbformat_minor": 1
}
